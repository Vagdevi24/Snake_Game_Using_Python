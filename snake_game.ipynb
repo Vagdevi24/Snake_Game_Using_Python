{
 "cells": [
  {
   "cell_type": "code",
   "execution_count": 17,
   "id": "1d18d07b",
   "metadata": {},
   "outputs": [
    {
     "name": "stdout",
     "output_type": "stream",
     "text": [
      "Snake: 2\n",
      "Snake: 3\n",
      "Snake: 4\n",
      "Snake: 5\n",
      "Snake: 6\n",
      "Snake: 7\n"
     ]
    }
   ],
   "source": [
    "from turtle import *\n",
    "from random import randrange\n",
    "from freegames import square, vector\n",
    "\n",
    "# Constants for game configuration\n",
    "SCREEN_SIZE = 420\n",
    "SNAKE_SIZE = 10\n",
    "FOOD_SIZE = 9\n",
    "SPEED = 100\n",
    "\n",
    "food = vector(0, 0)\n",
    "snake = [vector(10, 0)]\n",
    "aim = vector(0, -SNAKE_SIZE)\n",
    "\n",
    "def change(x, y):\n",
    "    \"\"\"Change snake direction, preventing reverse.\"\"\"\n",
    "    if (aim.x, aim.y) != (-x, -y):  # Prevent reversing direction\n",
    "        aim.x = x\n",
    "        aim.y = y\n",
    "\n",
    "def inside(head):\n",
    "    \"\"\"Return True if head inside boundaries.\"\"\"\n",
    "    return -SCREEN_SIZE // 2 < head.x < SCREEN_SIZE // 2 - SNAKE_SIZE and -SCREEN_SIZE // 2 < head.y < SCREEN_SIZE // 2 - SNAKE_SIZE\n",
    "\n",
    "def move():\n",
    "    \"\"\"Move snake forward one segment.\"\"\"\n",
    "    head = snake[-1].copy()\n",
    "    head.move(aim)\n",
    "\n",
    "    if not inside(head) or head in snake:\n",
    "        square(head.x, head.y, FOOD_SIZE, 'red')  # Game over indicator\n",
    "        update()\n",
    "        return\n",
    "\n",
    "    snake.append(head)\n",
    "\n",
    "    if head == food:\n",
    "        print('Snake:', len(snake))\n",
    "        # Place food within the game screen limits\n",
    "        food.x = randrange(-SCREEN_SIZE // 2 // SNAKE_SIZE + 1, SCREEN_SIZE // 2 // SNAKE_SIZE) * SNAKE_SIZE\n",
    "        food.y = randrange(-SCREEN_SIZE // 2 // SNAKE_SIZE + 1, SCREEN_SIZE // 2 // SNAKE_SIZE) * SNAKE_SIZE\n",
    "    else:\n",
    "        snake.pop(0)  # Remove the tail segment\n",
    "\n",
    "    clear()\n",
    "    draw_snake()\n",
    "    square(food.x, food.y, FOOD_SIZE, 'green')\n",
    "    update()\n",
    "    ontimer(move, SPEED)\n",
    "\n",
    "def draw_snake():\n",
    "    \"\"\"Draw the snake.\"\"\"\n",
    "    for body in snake:\n",
    "        square(body.x, body.y, SNAKE_SIZE - 1, 'black')\n",
    "\n",
    "# Setup the game screen\n",
    "setup(SCREEN_SIZE, SCREEN_SIZE, 370, 0)\n",
    "hideturtle()\n",
    "tracer(False)\n",
    "listen()\n",
    "onkey(lambda: change(SNAKE_SIZE, 0), 'Right')\n",
    "onkey(lambda: change(-SNAKE_SIZE, 0), 'Left')\n",
    "onkey(lambda: change(0, SNAKE_SIZE), 'Up')\n",
    "onkey(lambda: change(0, -SNAKE_SIZE), 'Down')\n",
    "move()\n",
    "done()\n"
   ]
  },
  {
   "cell_type": "code",
   "execution_count": null,
   "id": "9b86a4d2",
   "metadata": {},
   "outputs": [],
   "source": []
  },
  {
   "cell_type": "code",
   "execution_count": null,
   "id": "f931f6c4",
   "metadata": {},
   "outputs": [],
   "source": []
  },
  {
   "cell_type": "code",
   "execution_count": null,
   "id": "0bc9f3d6",
   "metadata": {},
   "outputs": [],
   "source": []
  }
 ],
 "metadata": {
  "kernelspec": {
   "display_name": "Python 3 (ipykernel)",
   "language": "python",
   "name": "python3"
  },
  "language_info": {
   "codemirror_mode": {
    "name": "ipython",
    "version": 3
   },
   "file_extension": ".py",
   "mimetype": "text/x-python",
   "name": "python",
   "nbconvert_exporter": "python",
   "pygments_lexer": "ipython3",
   "version": "3.9.13"
  }
 },
 "nbformat": 4,
 "nbformat_minor": 5
}
